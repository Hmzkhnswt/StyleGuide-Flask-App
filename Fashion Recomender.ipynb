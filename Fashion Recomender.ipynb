{
 "cells": [
  {
   "cell_type": "code",
   "execution_count": 1,
   "metadata": {},
   "outputs": [],
   "source": [
    "import tensorflow as tf\n",
    "from tensorflow.keras.layers import GlobalMaxPooling2D\n",
    "from tensorflow.keras.preprocessing import image\n",
    "from tensorflow.keras.applications.resnet50 import ResNet50, preprocess_input\n",
    "from keras.models import Sequential\n",
    "import numpy as np\n",
    "import os\n",
    "from tqdm import tqdm\n",
    "import pickle"
   ]
  },
  {
   "cell_type": "code",
   "execution_count": 2,
   "metadata": {},
   "outputs": [
    {
     "name": "stdout",
     "output_type": "stream",
     "text": [
      "Downloading data from https://storage.googleapis.com/tensorflow/keras-applications/resnet/resnet50_weights_tf_dim_ordering_tf_kernels_notop.h5\n",
      "94765736/94765736 [==============================] - 53s 1us/step\n"
     ]
    }
   ],
   "source": [
    "model = ResNet50(weights='imagenet',include_top=False,input_shape=(224,224,3))  ### input shape\n",
    "model.trainable = False"
   ]
  },
  {
   "cell_type": "code",
   "execution_count": 3,
   "metadata": {},
   "outputs": [],
   "source": [
    "model = Sequential([\n",
    "    model,\n",
    "    GlobalMaxPooling2D()\n",
    "])"
   ]
  },
  {
   "cell_type": "code",
   "execution_count": 4,
   "metadata": {},
   "outputs": [
    {
     "name": "stdout",
     "output_type": "stream",
     "text": [
      "Model: \"sequential\"\n",
      "_________________________________________________________________\n",
      " Layer (type)                Output Shape              Param #   \n",
      "=================================================================\n",
      " resnet50 (Functional)       (None, 7, 7, 2048)        23587712  \n",
      "                                                                 \n",
      " global_max_pooling2d (Glob  (None, 2048)              0         \n",
      " alMaxPooling2D)                                                 \n",
      "                                                                 \n",
      "=================================================================\n",
      "Total params: 23587712 (89.98 MB)\n",
      "Trainable params: 0 (0.00 Byte)\n",
      "Non-trainable params: 23587712 (89.98 MB)\n",
      "_________________________________________________________________\n"
     ]
    }
   ],
   "source": [
    "model.summary()"
   ]
  },
  {
   "cell_type": "code",
   "execution_count": 5,
   "metadata": {},
   "outputs": [],
   "source": [
    "from numpy.linalg import norm"
   ]
  },
  {
   "cell_type": "code",
   "execution_count": 6,
   "metadata": {},
   "outputs": [],
   "source": [
    "### function for doing below oprations\n",
    "def feature_extraction(image_path, model):\n",
    "  img = image.load_img(image_path, target_size=(224,224))     ### loading image form the path\n",
    "  img_array = image.array_to_img(img)       ### converting it into array\n",
    "  expanded_img_array = np.expand_dims(img_array, axis=0)      ### just expand as keras expect the batch of images\n",
    "  preprocessed_img = preprocess_input(expanded_img_array)     ### so that all images should be in the format of the same as in imagenet\n",
    "  result = model.predict(preprocessed_img).flatten()          ### just in 1d array\n",
    "  normalized_result = result / norm(result)             ### normalizing for the zero centered\n",
    "\n",
    "  return normalized_result\n"
   ]
  },
  {
   "cell_type": "code",
   "execution_count": 7,
   "metadata": {},
   "outputs": [
    {
     "name": "stdout",
     "output_type": "stream",
     "text": [
      "44441\n"
     ]
    }
   ],
   "source": [
    "import os\n",
    "filenames = []\n",
    "for file in os.listdir(\"D:\\#DATA Science\\Deep Learning\\Deep Learning Practice\\Fashion Recomender System\\images\"):\n",
    "  filenames.append(os.path.join(\"D:\\#DATA Science\\Deep Learning\\Deep Learning Practice\\Fashion Recomender System\\images\", file))\n",
    "\n",
    "print(len(filenames))"
   ]
  },
  {
   "cell_type": "code",
   "execution_count": null,
   "metadata": {},
   "outputs": [],
   "source": [
    "import tqdm  # Make sure you've imported the tqdm module\n",
    "\n",
    "feature_list = []\n",
    "\n",
    "for file in tqdm.tqdm(filenames):  # Use tqdm.tqdm to iterate with a progress bar\n",
    "    features = feature_extraction(file, model)\n",
    "    feature_list.append(features)\n"
   ]
  },
  {
   "cell_type": "code",
   "execution_count": 9,
   "metadata": {},
   "outputs": [],
   "source": [
    "import pickle\n",
    "pickle.dump(feature_list,open('embeddings.pkl', 'wb'))\n",
    "pickle.dump(filenames,open('filenames.pkl', 'wb'))"
   ]
  }
 ],
 "metadata": {
  "kernelspec": {
   "display_name": "Python 3",
   "language": "python",
   "name": "python3"
  },
  "language_info": {
   "codemirror_mode": {
    "name": "ipython",
    "version": 3
   },
   "file_extension": ".py",
   "mimetype": "text/x-python",
   "name": "python",
   "nbconvert_exporter": "python",
   "pygments_lexer": "ipython3",
   "version": "3.10.11"
  },
  "orig_nbformat": 4
 },
 "nbformat": 4,
 "nbformat_minor": 2
}
